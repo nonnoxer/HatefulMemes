{
 "cells": [
  {
   "cell_type": "code",
   "execution_count": 2,
   "metadata": {},
   "outputs": [],
   "source": [
    "import pandas as pd\n",
    "import numpy as np\n",
    "import matplotlib.pyplot as plt\n",
    "import seaborn as sns"
   ]
  },
  {
   "cell_type": "code",
   "execution_count": 3,
   "metadata": {},
   "outputs": [
    {
     "data": {
      "text/html": [
       "<div>\n",
       "<style scoped>\n",
       "    .dataframe tbody tr th:only-of-type {\n",
       "        vertical-align: middle;\n",
       "    }\n",
       "\n",
       "    .dataframe tbody tr th {\n",
       "        vertical-align: top;\n",
       "    }\n",
       "\n",
       "    .dataframe thead th {\n",
       "        text-align: right;\n",
       "    }\n",
       "</style>\n",
       "<table border=\"1\" class=\"dataframe\">\n",
       "  <thead>\n",
       "    <tr style=\"text-align: right;\">\n",
       "      <th></th>\n",
       "      <th>Unnamed: 0</th>\n",
       "      <th>id</th>\n",
       "      <th>img</th>\n",
       "      <th>label</th>\n",
       "      <th>text</th>\n",
       "    </tr>\n",
       "  </thead>\n",
       "  <tbody>\n",
       "    <tr>\n",
       "      <th>0</th>\n",
       "      <td>8025</td>\n",
       "      <td>58612</td>\n",
       "      <td>img/58612.png</td>\n",
       "      <td>1</td>\n",
       "      <td>this is my neighborhood after the mexicans mov...</td>\n",
       "    </tr>\n",
       "    <tr>\n",
       "      <th>1</th>\n",
       "      <td>2034</td>\n",
       "      <td>45691</td>\n",
       "      <td>img/45691.png</td>\n",
       "      <td>1</td>\n",
       "      <td>call me \"sir\" one more time and i'll show you ...</td>\n",
       "    </tr>\n",
       "    <tr>\n",
       "      <th>2</th>\n",
       "      <td>2139</td>\n",
       "      <td>89302</td>\n",
       "      <td>img/89302.png</td>\n",
       "      <td>1</td>\n",
       "      <td>damn son where'd you find this its ok baby im ...</td>\n",
       "    </tr>\n",
       "    <tr>\n",
       "      <th>3</th>\n",
       "      <td>7876</td>\n",
       "      <td>47516</td>\n",
       "      <td>img/47516.png</td>\n",
       "      <td>0</td>\n",
       "      <td>a dictator.. emphasis on the dic*</td>\n",
       "    </tr>\n",
       "    <tr>\n",
       "      <th>4</th>\n",
       "      <td>3304</td>\n",
       "      <td>40561</td>\n",
       "      <td>img/40561.png</td>\n",
       "      <td>0</td>\n",
       "      <td>feeling pretty cute might blow something up la...</td>\n",
       "    </tr>\n",
       "  </tbody>\n",
       "</table>\n",
       "</div>"
      ],
      "text/plain": [
       "   Unnamed: 0     id            img  label  \\\n",
       "0        8025  58612  img/58612.png      1   \n",
       "1        2034  45691  img/45691.png      1   \n",
       "2        2139  89302  img/89302.png      1   \n",
       "3        7876  47516  img/47516.png      0   \n",
       "4        3304  40561  img/40561.png      0   \n",
       "\n",
       "                                                text  \n",
       "0  this is my neighborhood after the mexicans mov...  \n",
       "1  call me \"sir\" one more time and i'll show you ...  \n",
       "2  damn son where'd you find this its ok baby im ...  \n",
       "3                  a dictator.. emphasis on the dic*  \n",
       "4  feeling pretty cute might blow something up la...  "
      ]
     },
     "execution_count": 3,
     "metadata": {},
     "output_type": "execute_result"
    }
   ],
   "source": [
    "df = pd.read_csv(\"hateful_meme_dataset.csv\")\n",
    "df.head()"
   ]
  },
  {
   "cell_type": "code",
   "execution_count": 4,
   "metadata": {},
   "outputs": [
    {
     "data": {
      "text/plain": [
       "label\n",
       "0    6657\n",
       "1    4002\n",
       "Name: count, dtype: int64"
      ]
     },
     "execution_count": 4,
     "metadata": {},
     "output_type": "execute_result"
    }
   ],
   "source": [
    "df['label'].value_counts()"
   ]
  },
  {
   "cell_type": "code",
   "execution_count": null,
   "metadata": {},
   "outputs": [],
   "source": []
  }
 ],
 "metadata": {
  "kernelspec": {
   "display_name": "Python 3",
   "language": "python",
   "name": "python3"
  },
  "language_info": {
   "codemirror_mode": {
    "name": "ipython",
    "version": 3
   },
   "file_extension": ".py",
   "mimetype": "text/x-python",
   "name": "python",
   "nbconvert_exporter": "python",
   "pygments_lexer": "ipython3",
   "version": "3.10.0"
  }
 },
 "nbformat": 4,
 "nbformat_minor": 2
}
